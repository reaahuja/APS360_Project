{
  "cells": [
    {
      "cell_type": "code",
      "execution_count": 34,
      "metadata": {
        "id": "9-7_GBVBFEhg"
      },
      "outputs": [],
      "source": [
        "import numpy as np\n",
        "import torch\n",
        "import torch.nn as nn\n",
        "import torch.nn.functional as F\n",
        "import torchvision\n",
        "import torchvision.transforms as transforms\n",
        "from torch.utils.data.sampler import SubsetRandomSampler as srs\n",
        "import random\n",
        "import matplotlib.pyplot as plt\n",
        "from collections import Counter\n",
        "import csv\n",
        "import os\n",
        "import shutil\n",
        "import pandas as pd\n",
        "import cv2\n",
        "import torch.optim as optim\n",
        "from torch.utils.data import DataLoader\n",
        "\n",
        "use_cuda = True\n",
        "import time\n"
      ]
    },
    {
      "cell_type": "code",
      "execution_count": 35,
      "metadata": {},
      "outputs": [],
      "source": [
        "dir = '/Users/halle/OneDrive - University of Toronto/Desktop/APS360/Project/APS360_Project/aps360dataset'\n",
        "transform = transforms.Compose([transforms.ToTensor(),\n",
        "         transforms.Resize((224, 224)), # images are either 450 * 600 or 1024 * 1024\n",
        "                                # all resized to 224 * 224 for ResNet\n",
        "         transforms.Normalize((0.5, 0.5, 0.5), (0.5, 0.5, 0.5))])\n",
        "\n",
        "# transform input images to match requirements; load all images to all_data\n",
        "all_data = torchvision.datasets.ImageFolder(dir, transform=transform)"
      ]
    },
    {
      "cell_type": "code",
      "execution_count": 36,
      "metadata": {},
      "outputs": [
        {
          "data": {
            "text/plain": [
              "Dataset ImageFolder\n",
              "    Number of datapoints: 23344\n",
              "    Root location: /Users/halle/OneDrive - University of Toronto/Desktop/APS360/Project/APS360_Project/aps360dataset\n",
              "    StandardTransform\n",
              "Transform: Compose(\n",
              "               ToTensor()\n",
              "               Resize(size=(224, 224), interpolation=bilinear, max_size=None, antialias=True)\n",
              "               Normalize(mean=(0.5, 0.5, 0.5), std=(0.5, 0.5, 0.5))\n",
              "           )"
            ]
          },
          "execution_count": 36,
          "metadata": {},
          "output_type": "execute_result"
        }
      ],
      "source": [
        "all_data"
      ]
    },
    {
      "cell_type": "code",
      "execution_count": 37,
      "metadata": {},
      "outputs": [],
      "source": [
        "# use a set, random seed\n",
        "torch.manual_seed(0)\n",
        "\n",
        "# find 20% of len(all_data) for 20% test and val sets\n",
        "test_size = int(len(all_data) * 0.004)\n",
        "\n",
        "# remaining ~60% is left for training\n",
        "train_size = int(len(all_data) * 0.012)\n",
        "\n",
        "extra = len(all_data) - 2 * test_size - train_size"
      ]
    },
    {
      "cell_type": "code",
      "execution_count": 38,
      "metadata": {},
      "outputs": [
        {
          "name": "stdout",
          "output_type": "stream",
          "text": [
            "There are 280 images in training, \n",
            "93 images in validation and \n",
            "93 images in testing\n"
          ]
        }
      ],
      "source": [
        "# randomly split the data into training, test and validation sets\n",
        "train_data, val_data, test_data, extra = torch.utils.data.random_split(all_data,\n",
        "  [train_size, test_size, test_size, extra])\n",
        "\n",
        "# use Dataloader to allow for iteration (img, label) over a dataset\n",
        "# same method used in previous labs\n",
        "train_loader = torch.utils.data.DataLoader(train_data, shuffle=True)\n",
        "val_loader = torch.utils.data.DataLoader(val_data, shuffle=True)\n",
        "test_loader = torch.utils.data.DataLoader(test_data, shuffle=True)\n",
        "\n",
        "print(\"There are {0} images in training, \".format(len(train_loader)))\n",
        "print(\"{0} images in validation and \".format(len(val_loader)))\n",
        "print(\"{0} images in testing\".format(len(test_loader)))"
      ]
    },
    {
      "cell_type": "code",
      "execution_count": 39,
      "metadata": {},
      "outputs": [],
      "source": [
        "def get_counts(loader):\n",
        "    # information from dataloader\n",
        "    labels = [label for img, label in loader.dataset]\n",
        "\n",
        "    # num / class counted\n",
        "    counts = dict(Counter(labels))\n",
        "\n",
        "    return counts\n",
        "\n",
        "train_counts = get_counts(train_loader)\n",
        "val_counts = get_counts(val_loader)\n",
        "test_counts = get_counts(test_loader)"
      ]
    },
    {
      "cell_type": "code",
      "execution_count": 40,
      "metadata": {},
      "outputs": [],
      "source": [
        "original_dataset = train_loader.dataset.dataset"
      ]
    },
    {
      "cell_type": "code",
      "execution_count": 41,
      "metadata": {},
      "outputs": [],
      "source": [
        "class_names = original_dataset.classes"
      ]
    },
    {
      "cell_type": "code",
      "execution_count": 42,
      "metadata": {},
      "outputs": [
        {
          "data": {
            "text/plain": [
              "['bcc', 'bkl', 'mel', 'nv']"
            ]
          },
          "execution_count": 42,
          "metadata": {},
          "output_type": "execute_result"
        }
      ],
      "source": [
        "class_names"
      ]
    },
    {
      "cell_type": "code",
      "execution_count": 43,
      "metadata": {},
      "outputs": [],
      "source": [
        "n = {idx: cls for cls, idx in original_dataset.class_to_idx.items()}"
      ]
    },
    {
      "cell_type": "code",
      "execution_count": 44,
      "metadata": {},
      "outputs": [
        {
          "data": {
            "text/plain": [
              "{0: 'bcc', 1: 'bkl', 2: 'mel', 3: 'nv'}"
            ]
          },
          "execution_count": 44,
          "metadata": {},
          "output_type": "execute_result"
        }
      ],
      "source": [
        "n"
      ]
    },
    {
      "cell_type": "code",
      "execution_count": 45,
      "metadata": {},
      "outputs": [
        {
          "data": {
            "text/plain": [
              "{3: 54, 2: 18, 1: 13, 0: 8}"
            ]
          },
          "execution_count": 45,
          "metadata": {},
          "output_type": "execute_result"
        }
      ],
      "source": [
        "test_counts"
      ]
    },
    {
      "cell_type": "code",
      "execution_count": 46,
      "metadata": {},
      "outputs": [
        {
          "data": {
            "text/plain": [
              "dict_keys([3, 0, 1, 2])"
            ]
          },
          "execution_count": 46,
          "metadata": {},
          "output_type": "execute_result"
        }
      ],
      "source": [
        "train_counts.keys()"
      ]
    },
    {
      "cell_type": "code",
      "execution_count": 47,
      "metadata": {},
      "outputs": [
        {
          "data": {
            "image/png": "[encoded data removed]",
            "text/plain": [
              "<Figure size 1200x800 with 1 Axes>"
            ]
          },
          "metadata": {},
          "output_type": "display_data"
        }
      ],
      "source": [
        "# Pre data augmentation \n",
        "labels = ['nv', 'bcc', 'bkl', 'mel']\n",
        "\n",
        "def plot(train_counts, val_counts, test_counts, title):\n",
        "    conditions = train_counts.keys()\n",
        "\n",
        "    train_values = [train_counts.get(c, 0) for c in conditions]\n",
        "    val_values = [val_counts.get(c, 0) for c in conditions]\n",
        "    test_values = [test_counts.get(c, 0) for c in conditions]\n",
        "    \n",
        "    x = np.arange(len(conditions))\n",
        "    width = 0.2 \n",
        "    \n",
        "    plt.figure(figsize=(12, 8))\n",
        "    plt.bar(x - width, train_values, width, label='Training data', alpha=0.7)\n",
        "    plt.bar(x, val_values, width, label='Validation data', alpha=0.7)\n",
        "    plt.bar(x + width, test_values, width, label='Testing data', alpha=0.7)\n",
        "    \n",
        "    plt.xlabel('Skin condition')\n",
        "    plt.ylabel('Number of samples')\n",
        "    plt.title(title)\n",
        "    plt.xticks(x, labels) # can confirm with swapping out conditions here\n",
        "    plt.legend()\n",
        "    \n",
        "    plt.show()\n",
        "\n",
        "\n",
        "plot(train_counts, val_counts, test_counts, \"Skin condition distribution across the initial dataset\")\n"
      ]
    },
    {
      "cell_type": "code",
      "execution_count": 48,
      "metadata": {},
      "outputs": [
        {
          "name": "stdout",
          "output_type": "stream",
          "text": [
            "Training counts: [150, 38, 42, 50]\n",
            "Val counts: [42, 19, 10, 22]\n",
            "Test counts: [54, 8, 13, 18]\n"
          ]
        }
      ],
      "source": [
        "conditions = train_counts.keys()\n",
        "t_counts = [train_counts.get(c, 0) for c in conditions]\n",
        "print(f\"Training counts: {t_counts}\")\n",
        "v_counts = [val_counts.get(c, 0) for c in conditions]\n",
        "print(f\"Val counts: {v_counts}\")\n",
        "te_counts = [test_counts.get(c, 0) for c in conditions]\n",
        "print(f\"Test counts: {te_counts}\")"
      ]
    },
    {
      "cell_type": "code",
      "execution_count": 49,
      "metadata": {},
      "outputs": [],
      "source": [
        "def augment(data, counts):\n",
        "    max_count = max(counts)\n",
        "    augments = [max_count - c for c in counts]\n",
        "\n",
        "    # transforms for augmentation\n",
        "    horiz = transforms.RandomHorizontalFlip()\n",
        "    vert = transforms.RandomVerticalFlip()\n",
        "    rot = transforms.RandomRotation(90)\n",
        "    rot_1 = transforms.RandomRotation(270)\n",
        "\n",
        "    \n",
        "    augmented_data = []\n",
        "    all_images = {i: [] for i in range(0, 3)}\n",
        "\n",
        "    for img, label in data: \n",
        "        if label in range(0,3): # minority classes have labels 0, 1, 2\n",
        "            all_images[label].append((img, label))\n",
        "\n",
        "    for i in range(0, 3):\n",
        "        images = all_images[i]\n",
        "        \n",
        "        for img, label in images:\n",
        "            if augments[i + 1] <= 5: # initial class is majority class\n",
        "                break\n",
        "            augmented_data.append((horiz(img), label))\n",
        "            augmented_data.append((vert(img), label))\n",
        "            augmented_data.append((rot(img), label)) \n",
        "            augmented_data.append((rot_1(img), label))\n",
        "            augments[i + 1] -= 4\n",
        "            counts[i + 1] += 4\n",
        "    \n",
        "    full = data + augmented_data\n",
        "    return full, counts"
      ]
    },
    {
      "cell_type": "code",
      "execution_count": 50,
      "metadata": {},
      "outputs": [],
      "source": [
        "aug_test, test_counts = augment(test_data, te_counts)\n",
        "aug_val, val_counts = augment(val_data, v_counts)\n",
        "aug_train, train_counts = augment(train_data, t_counts)"
      ]
    },
    {
      "cell_type": "code",
      "execution_count": 51,
      "metadata": {},
      "outputs": [],
      "source": [
        "train_loader = torch.utils.data.DataLoader(aug_train, shuffle=True)\n",
        "val_loader = torch.utils.data.DataLoader(aug_val, shuffle=True)\n",
        "test_loader = torch.utils.data.DataLoader(aug_test, shuffle=True)"
      ]
    },
    {
      "cell_type": "code",
      "execution_count": 52,
      "metadata": {},
      "outputs": [],
      "source": [
        "# convert list to dict for visualization\n",
        "def list_to_dict(counts):\n",
        "    return {0: counts[1], 1: counts[2], 2: counts[3], 3: counts[0]}\n",
        "\n",
        "test_dict = list_to_dict(test_counts)\n",
        "val_dict = list_to_dict(val_counts)\n",
        "train_dict = list_to_dict(train_counts)"
      ]
    },
    {
      "cell_type": "code",
      "execution_count": 53,
      "metadata": {},
      "outputs": [],
      "source": [
        "train_counts_1 = get_counts(train_loader) # can confirm results with counter\n",
        "val_counts_1 = get_counts(val_loader)\n",
        "test_counts_1 = get_counts(test_loader)"
      ]
    },
    {
      "cell_type": "code",
      "execution_count": 54,
      "metadata": {},
      "outputs": [
        {
          "data": {
            "image/png": "[encoded data removed]",
            "text/plain": [
              "<Figure size 1200x800 with 1 Axes>"
            ]
          },
          "metadata": {},
          "output_type": "display_data"
        }
      ],
      "source": [
        "plot(train_dict, val_dict, test_dict, \"Skin condition distribution following data augmentation\")"
      ]
    },
    {
      "cell_type": "markdown",
      "metadata": {
        "id": "Pxsm_QWOms9m"
      },
      "source": [
        "# Import data"
      ]
    },
    {
      "cell_type": "code",
      "execution_count": null,
      "metadata": {
        "id": "wjSxrwy28DxT"
      },
      "outputs": [],
      "source": [
        "# install the official API for Kaggle: https://pypi.org/project/kaggle/\n",
        "!pip install -q kaggle"
      ]
    },
    {
      "cell_type": "code",
      "execution_count": null,
      "metadata": {
        "colab": {
          "base_uri": "https://localhost:8080/",
          "height": 38
        },
        "id": "tiHKUAjA9Tzq",
        "outputId": "a04947f2-19bd-47b7-a7ba-47565e7c1bb2"
      },
      "outputs": [
        {
          "data": {
            "text/html": [
              "\n",
              "     <input type=\"file\" id=\"files-1b79a419-eeb1-4550-9bdd-9c1b575a5c6e\" name=\"files[]\" multiple disabled\n",
              "        style=\"border:none\" />\n",
              "     <output id=\"result-1b79a419-eeb1-4550-9bdd-9c1b575a5c6e\">\n",
              "      Upload widget is only available when the cell has been executed in the\n",
              "      current browser session. Please rerun this cell to enable.\n",
              "      </output>\n",
              "      <script>// Copyright 2017 Google LLC\n",
              "//\n",
              "// Licensed under the Apache License, Version 2.0 (the \"License\");\n",
              "// you may not use this file except in compliance with the License.\n",
              "// You may obtain a copy of the License at\n",
              "//\n",
              "//      http://www.apache.org/licenses/LICENSE-2.0\n",
              "//\n",
              "// Unless required by applicable law or agreed to in writing, software\n",
              "// distributed under the License is distributed on an \"AS IS\" BASIS,\n",
              "// WITHOUT WARRANTIES OR CONDITIONS OF ANY KIND, either express or implied.\n",
              "// See the License for the specific language governing permissions and\n",
              "// limitations under the License.\n",
              "\n",
              "/**\n",
              " * @fileoverview Helpers for google.colab Python module.\n",
              " */\n",
              "(function(scope) {\n",
              "function span(text, styleAttributes = {}) {\n",
              "  const element = document.createElement('span');\n",
              "  element.textContent = text;\n",
              "  for (const key of Object.keys(styleAttributes)) {\n",
              "    element.style[key] = styleAttributes[key];\n",
              "  }\n",
              "  return element;\n",
              "}\n",
              "\n",
              "// Max number of bytes which will be uploaded at a time.\n",
              "const MAX_PAYLOAD_SIZE = 100 * 1024;\n",
              "\n",
              "function _uploadFiles(inputId, outputId) {\n",
              "  const steps = uploadFilesStep(inputId, outputId);\n",
              "  const outputElement = document.getElementById(outputId);\n",
              "  // Cache steps on the outputElement to make it available for the next call\n",
              "  // to uploadFilesContinue from Python.\n",
              "  outputElement.steps = steps;\n",
              "\n",
              "  return _uploadFilesContinue(outputId);\n",
              "}\n",
              "\n",
              "// This is roughly an async generator (not supported in the browser yet),\n",
              "// where there are multiple asynchronous steps and the Python side is going\n",
              "// to poll for completion of each step.\n",
              "// This uses a Promise to block the python side on completion of each step,\n",
              "// then passes the result of the previous step as the input to the next step.\n",
              "function _uploadFilesContinue(outputId) {\n",
              "  const outputElement = document.getElementById(outputId);\n",
              "  const steps = outputElement.steps;\n",
              "\n",
              "  const next = steps.next(outputElement.lastPromiseValue);\n",
              "  return Promise.resolve(next.value.promise).then((value) => {\n",
              "    // Cache the last promise value to make it available to the next\n",
              "    // step of the generator.\n",
              "    outputElement.lastPromiseValue = value;\n",
              "    return next.value.response;\n",
              "  });\n",
              "}\n",
              "\n",
              "/**\n",
              " * Generator function which is called between each async step of the upload\n",
              " * process.\n",
              " * @param {string} inputId Element ID of the input file picker element.\n",
              " * @param {string} outputId Element ID of the output display.\n",
              " * @return {!Iterable<!Object>} Iterable of next steps.\n",
              " */\n",
              "function* uploadFilesStep(inputId, outputId) {\n",
              "  const inputElement = document.getElementById(inputId);\n",
              "  inputElement.disabled = false;\n",
              "\n",
              "  const outputElement = document.getElementById(outputId);\n",
              "  outputElement.innerHTML = '';\n",
              "\n",
              "  const pickedPromise = new Promise((resolve) => {\n",
              "    inputElement.addEventListener('change', (e) => {\n",
              "      resolve(e.target.files);\n",
              "    });\n",
              "  });\n",
              "\n",
              "  const cancel = document.createElement('button');\n",
              "  inputElement.parentElement.appendChild(cancel);\n",
              "  cancel.textContent = 'Cancel upload';\n",
              "  const cancelPromise = new Promise((resolve) => {\n",
              "    cancel.onclick = () => {\n",
              "      resolve(null);\n",
              "    };\n",
              "  });\n",
              "\n",
              "  // Wait for the user to pick the files.\n",
              "  const files = yield {\n",
              "    promise: Promise.race([pickedPromise, cancelPromise]),\n",
              "    response: {\n",
              "      action: 'starting',\n",
              "    }\n",
              "  };\n",
              "\n",
              "  cancel.remove();\n",
              "\n",
              "  // Disable the input element since further picks are not allowed.\n",
              "  inputElement.disabled = true;\n",
              "\n",
              "  if (!files) {\n",
              "    return {\n",
              "      response: {\n",
              "        action: 'complete',\n",
              "      }\n",
              "    };\n",
              "  }\n",
              "\n",
              "  for (const file of files) {\n",
              "    const li = document.createElement('li');\n",
              "    li.append(span(file.name, {fontWeight: 'bold'}));\n",
              "    li.append(span(\n",
              "        `(${file.type || 'n/a'}) - ${file.size} bytes, ` +\n",
              "        `last modified: ${\n",
              "            file.lastModifiedDate ? file.lastModifiedDate.toLocaleDateString() :\n",
              "                                    'n/a'} - `));\n",
              "    const percent = span('0% done');\n",
              "    li.appendChild(percent);\n",
              "\n",
              "    outputElement.appendChild(li);\n",
              "\n",
              "    const fileDataPromise = new Promise((resolve) => {\n",
              "      const reader = new FileReader();\n",
              "      reader.onload = (e) => {\n",
              "        resolve(e.target.result);\n",
              "      };\n",
              "      reader.readAsArrayBuffer(file);\n",
              "    });\n",
              "    // Wait for the data to be ready.\n",
              "    let fileData = yield {\n",
              "      promise: fileDataPromise,\n",
              "      response: {\n",
              "        action: 'continue',\n",
              "      }\n",
              "    };\n",
              "\n",
              "    // Use a chunked sending to avoid message size limits. See b/62115660.\n",
              "    let position = 0;\n",
              "    do {\n",
              "      const length = Math.min(fileData.byteLength - position, MAX_PAYLOAD_SIZE);\n",
              "      const chunk = new Uint8Array(fileData, position, length);\n",
              "      position += length;\n",
              "\n",
              "      const base64 = btoa(String.fromCharCode.apply(null, chunk));\n",
              "      yield {\n",
              "        response: {\n",
              "          action: 'append',\n",
              "          file: file.name,\n",
              "          data: base64,\n",
              "        },\n",
              "      };\n",
              "\n",
              "      let percentDone = fileData.byteLength === 0 ?\n",
              "          100 :\n",
              "          Math.round((position / fileData.byteLength) * 100);\n",
              "      percent.textContent = `${percentDone}% done`;\n",
              "\n",
              "    } while (position < fileData.byteLength);\n",
              "  }\n",
              "\n",
              "  // All done.\n",
              "  yield {\n",
              "    response: {\n",
              "      action: 'complete',\n",
              "    }\n",
              "  };\n",
              "}\n",
              "\n",
              "scope.google = scope.google || {};\n",
              "scope.google.colab = scope.google.colab || {};\n",
              "scope.google.colab._files = {\n",
              "  _uploadFiles,\n",
              "  _uploadFilesContinue,\n",
              "};\n",
              "})(self);\n",
              "</script> "
            ],
            "text/plain": [
              "<IPython.core.display.HTML object>"
            ]
          },
          "metadata": {},
          "output_type": "display_data"
        }
      ],
      "source": [
        "# import the API key from a personal Kaggle account\n",
        "from google.colab import files\n",
        "files.upload()"
      ]
    },
    {
      "cell_type": "code",
      "execution_count": null,
      "metadata": {
        "id": "hxw1hnqH9iYX"
      },
      "outputs": [],
      "source": [
        "# make a new directory as specified by the API; move token into that folder\n",
        "!mkdir ~/.kaggle\n",
        "!cp kaggle.json ~/.kaggle\n",
        "\n",
        "# change permissions for the json file\n",
        "!chmod 600 ~/.kaggle/kaggle.json"
      ]
    },
    {
      "cell_type": "code",
      "execution_count": null,
      "metadata": {
        "id": "vYJxmYtN37Zi"
      },
      "outputs": [],
      "source": [
        "# import the HAM10000 dataset via Kaggle\n",
        "!kaggle datasets download -d kmader/skin-cancer-mnist-ham10000\n",
        "\n",
        "# import the isic 2019 dataset from kaggle\n",
        "#!kaggle datasets download -d andrewmvd/isic-2019"
      ]
    },
    {
      "cell_type": "code",
      "execution_count": null,
      "metadata": {
        "collapsed": true,
        "id": "WXbYQYrj_g4i"
      },
      "outputs": [],
      "source": [
        "!unzip skin-cancer-mnist-ham10000.zip\n",
        "\n",
        "#!unzip isic-2019.zip -d isic-2019"
      ]
    },
    {
      "cell_type": "code",
      "execution_count": null,
      "metadata": {
        "id": "RpWvDLx0IjjX"
      },
      "outputs": [],
      "source": [
        "##### PROCESS HAM10000 IMAGES; ADD INTO FOLDERS BY CLASS #####\n",
        "\n",
        "# open metadata csv file\n",
        "with open('HAM10000_metadata.csv','r') as csvfile:\n",
        "    ham10000_file = csv.reader(csvfile)\n",
        "\n",
        "    ham10000_meta = []\n",
        "    for row in ham10000_file:\n",
        "        ham10000_meta.append(row)\n",
        "\n",
        "# visualize data\n",
        "print(ham10000_meta)"
      ]
    },
    {
      "cell_type": "code",
      "execution_count": null,
      "metadata": {
        "id": "bZdb8MSL_Hm8"
      },
      "outputs": [],
      "source": [
        "# convert to numpy array\n",
        "ham10000_arr= np.array(ham10000_meta)\n",
        "\n",
        "# extract the image IDs column\n",
        "img_ids = ham10000_arr[1:,1]\n",
        "print(img_ids)\n",
        "\n",
        "# extract the corresponding image classes\n",
        "img_classes = ham10000_arr[1:,2]\n",
        "print(img_classes)"
      ]
    },
    {
      "cell_type": "code",
      "execution_count": null,
      "metadata": {
        "id": "oEcDCNdlAj3-"
      },
      "outputs": [],
      "source": [
        "# create a new folder for data and navigate to this directory\n",
        "if not os.path.exists(\"data\"):\n",
        "  os.makedirs(\"data\")\n",
        "%cd data\n",
        "\n",
        "# create a new folder for each class\n",
        "classes = {'bkl':0, 'mel':0, 'nv':0, 'bcc':0}\n",
        "for c in classes:\n",
        "  os.makedirs(c, exist_ok=True)\n",
        "\n",
        "# return home and move datasets\n",
        "%cd ..\n",
        "dataset_folders = ['ham10000_images_part_1', 'ham10000_images_part_2']\n",
        "\n",
        "# iterate over all images in working directory\n",
        "for src in dataset_folders:\n",
        "  for filename in os.listdir(src):\n",
        "    filename = filename.removesuffix('.jpg')\n",
        "\n",
        "    # use the extracted image IDs and match to a corresponding class\n",
        "    if filename in img_ids:\n",
        "      i = np.where(img_ids == filename)[0][0]\n",
        "      class_name = img_classes[i]\n",
        "      if class_name in classes:\n",
        "        # move image to corresponding class folder\n",
        "        shutil.move('/content/' + src + '/' + filename + '.jpg',\n",
        "                    os.path.join('/content/data/' + class_name, filename + '.jpg'))"
      ]
    },
    {
      "cell_type": "code",
      "execution_count": null,
      "metadata": {
        "id": "99Tk0Du2uv4V"
      },
      "outputs": [],
      "source": [
        "# count and print the number of .jpg files in each class folder\n",
        "for class_name in classes:\n",
        "    class_folder = os.path.join(\"data\", class_name)\n",
        "    num_files = len([name for name in os.listdir(class_folder) if name.endswith('.jpg')])\n",
        "    print(f\"Number of .jpg files in {class_name}: {num_files}\")"
      ]
    },
    {
      "cell_type": "code",
      "execution_count": null,
      "metadata": {
        "id": "VSpIPvwywMNc"
      },
      "outputs": [],
      "source": [
        "# remove any extraneous files that are not jpgs\n",
        "def remove_non_jpg(dir):\n",
        "    # Iterate over all files in the directory\n",
        "    for filename in os.listdir(dir):\n",
        "        path = os.path.join(dir, filename)\n",
        "        if not filename.lower().endswith('.jpg'):\n",
        "          if not os.path.isdir(path):\n",
        "            os.remove(path)\n",
        "\n",
        "# remove non jpgs from each folder\n",
        "for c in classes:\n",
        "  remove_non_jpg(\"data/\" + c)"
      ]
    },
    {
      "cell_type": "code",
      "execution_count": null,
      "metadata": {
        "id": "Obc3nBFOlxnU"
      },
      "outputs": [],
      "source": [
        "# count and print the number of .jpg files in each class folder\n",
        "for class_name in classes:\n",
        "    class_folder = os.path.join(\"data\", class_name)\n",
        "    num_files = len([name for name in os.listdir(class_folder) if name.endswith('.jpg')])\n",
        "    print(f\"Number of .jpg files in {class_name}: {num_files}\")"
      ]
    },
    {
      "cell_type": "markdown",
      "metadata": {
        "id": "O8-vYUZJYbru"
      },
      "source": [
        "# Preprocessing steps"
      ]
    },
    {
      "cell_type": "markdown",
      "metadata": {
        "id": "CEGUtMfg9cI5"
      },
      "source": [
        "## Removing corrupted Images"
      ]
    },
    {
      "cell_type": "code",
      "execution_count": null,
      "metadata": {
        "id": "__4hnLz59bS1"
      },
      "outputs": [],
      "source": [
        "import os\n",
        "from PIL import Image\n",
        "\n",
        "def get_directory_size(directory):\n",
        "    total_size = 0\n",
        "    for dirpath, _, filenames in os.walk(directory):\n",
        "        for f in filenames:\n",
        "            fp = os.path.join(dirpath, f)\n",
        "            total_size += os.path.getsize(fp)\n",
        "    return total_size\n",
        "\n",
        "def remove_corrupted_images(directory):\n",
        "    initial_size = get_directory_size(directory)\n",
        "    print(f\"Initial directory size: {initial_size / (1024 * 1024):.2f} MB\")\n",
        "\n",
        "    removed_count = 0\n",
        "    for root, _, filenames in os.walk(directory):\n",
        "        for filename in filenames:\n",
        "            file_path = os.path.join(root, filename)\n",
        "            try:\n",
        "                with Image.open(file_path) as img:\n",
        "                    img.verify()  # Verify that it is an image\n",
        "            except (IOError, SyntaxError) as e:\n",
        "                print(f'Removing corrupted image: {file_path}')\n",
        "                os.remove(file_path)\n",
        "                removed_count += 1\n",
        "\n",
        "    final_size = get_directory_size(directory)\n",
        "    print(f\"Final directory size: {final_size / (1024 * 1024):.2f} MB\")\n",
        "    print(f\"Total images removed: {removed_count}\")\n",
        "\n",
        "# Usage\n",
        "remove_corrupted_images('/content/data/akiec')\n",
        "\n"
      ]
    },
    {
      "cell_type": "markdown",
      "metadata": {
        "id": "zd7Yfvvumy3H"
      },
      "source": [
        "## Noise removal"
      ]
    },
    {
      "cell_type": "code",
      "execution_count": null,
      "metadata": {
        "id": "MTHRG4TmNMBj"
      },
      "outputs": [],
      "source": [
        "# function that takes an image path as input, loads the image, applies the filters and saves the processed image\n",
        "\n",
        "def remove_noise(image_path, output_path):\n",
        "\n",
        "  #read the image\n",
        "  image = cv2.imread(image_path)\n",
        "\n",
        "  #check if image was successfully loaded\n",
        "  if image is None:\n",
        "    print(f\"Error: could not read the iamge at {image_path}\")\n",
        "    return\n",
        "\n",
        "  #apply gaussian blur\n",
        "  blurred = cv2.GaussianBlur(image, (3,3), 0)\n",
        "  # 5x5 kernel size and 0 standard deviation\n",
        "\n",
        "  #apply median filter\n",
        "  median = cv2.medianBlur(blurred,3)\n",
        "  # 5x5 kernel size\n",
        "\n",
        "  #apply bilateral filter\n",
        "  bilateral = cv2.bilateralFilter(median, 9, 75, 75)\n",
        "  #9-pixel neighborhood and color space sigmas of 75\n",
        "\n",
        "  cv2.imwrite(output_path, bilateral)\n",
        "\n",
        "  print(f\"noise removal completed for {image_path}. processed image saved at {output_path}\")\n"
      ]
    },
    {
      "cell_type": "code",
      "execution_count": null,
      "metadata": {
        "id": "zW2lz4BNVGjt"
      },
      "outputs": [],
      "source": [
        "from google.colab.patches import cv2_imshow"
      ]
    },
    {
      "cell_type": "code",
      "execution_count": null,
      "metadata": {
        "id": "zvZA_Z4uTn8c"
      },
      "outputs": [],
      "source": [
        "input_path = '/content/data/bcc/ISIC_0024331.jpg'\n",
        "output_path = '/content/processed_image.jpg'\n",
        "\n",
        "# Check if the input file exists\n",
        "if not os.path.exists(input_path):\n",
        "    print(f\"Error: The file at {input_path} does not exist.\")\n",
        "else:\n",
        "    remove_noise(input_path, output_path)\n",
        "\n",
        "    # Check if the output file was created\n",
        "    if os.path.exists(output_path):\n",
        "        print('Original image:')\n",
        "        original_image = cv2.imread(input_path)\n",
        "        cv2_imshow(original_image)\n",
        "\n",
        "        print('Processed image:')\n",
        "        processed_image = cv2.imread(output_path)\n",
        "        cv2_imshow(processed_image)\n",
        "    else:\n",
        "        print(f\"Error: The processed image at {output_path} was not created.\")"
      ]
    },
    {
      "cell_type": "code",
      "execution_count": null,
      "metadata": {
        "id": "8cA9xfmlAJN-"
      },
      "outputs": [],
      "source": [
        "plt.imread(\"/content/data/bcc/ISIC_0024331.jpg\")"
      ]
    },
    {
      "cell_type": "markdown",
      "metadata": {
        "id": "faTyALFv_ez3"
      },
      "source": [
        "## Duplicate Images Removal"
      ]
    },
    {
      "cell_type": "code",
      "execution_count": null,
      "metadata": {
        "collapsed": true,
        "id": "D2GQldBv_GUp"
      },
      "outputs": [],
      "source": [
        "%pip install Pillow\n",
        "%pip install imagededup\n",
        "%pip install imagehash"
      ]
    },
    {
      "cell_type": "code",
      "execution_count": null,
      "metadata": {
        "id": "BdIiMZC58YQa"
      },
      "outputs": [],
      "source": [
        "#function to remove duplicate images from the dataset -- NOT TESTED\n",
        "#expects something like entireDataset = datasets.ImageFolder(root='/content/drive/MyDrive/Colab Notebooks/Lab3_Gestures_Summer')\n",
        "#returns cleaned up dataset with all duplicate images removed\n",
        "\n",
        "\n",
        "import os\n",
        "from PIL import Image\n",
        "from imagededup.methods import PHash\n",
        "import imagehash\n",
        "from torchvision import datasets, transforms\n",
        "\n",
        "def removeDuplicateImagesPIL(entireDataset):\n",
        "\n",
        "  allDuplicateImages = []\n",
        "  allHashSet = []\n",
        "  cleanedDataset = []\n",
        "  pilConvert = transforms.ToPILImage()\n",
        "\n",
        "  for index, (image, label) in enumerate(entireDataset):\n",
        "    hash = imagehash.average_hash(pilConvert(image).convert('L') )\n",
        "    #hash = imagehash.average_hash(transforms.ToPILImage(image))\n",
        "    if hash in allHashSet:\n",
        "      allDuplicateImages.append(image)\n",
        "    else:\n",
        "      allHashSet.append(hash)\n",
        "\n",
        "  for i, img in enumerate(entireDataset):\n",
        "    if img not in allDuplicateImages:\n",
        "      cleanedDataset.append(img)\n",
        "\n",
        "  return cleanedDataset\n",
        "\n",
        "\n",
        "def removeDuplicateImagesImageDedup(entireDataset):\n",
        "  pHasher = PHash(hash_size=8)\n",
        "  imagePaths = []\n",
        "  for image, label in entireDataset:\n",
        "    imagePaths.append(image)\n",
        "\n",
        "  encodedImages = pHasher.encode_images(imagePaths)\n",
        "  duplicateImages = pHasher.find_duplicates(encoding_map = encodedImages, min_similarity_threshold=0.9)\n",
        "  duplicateImagePaths = set()\n",
        "  for key, value in duplicateImages.items():\n",
        "    for image in value:\n",
        "      duplicateImagePaths.add(image)\n",
        "\n",
        "  cleanedDataset = []\n",
        "  for image, label in entireDataset:\n",
        "    if image not in duplicateImagePaths:\n",
        "      cleanedDataset.append((image, label))\n",
        "\n",
        "  return cleanedDataset\n"
      ]
    },
    {
      "cell_type": "code",
      "execution_count": null,
      "metadata": {
        "id": "EWzDI6UOV5OV"
      },
      "outputs": [],
      "source": [
        "#remove duplicate images\n",
        "#all_data_cleaned = removeDuplicateImagesPIL(all_data)\n",
        "#all_data_cleaned = removeDuplicateImagesImageDedup(all_data)"
      ]
    },
    {
      "cell_type": "markdown",
      "metadata": {
        "id": "1mxwhVP24wM2"
      },
      "source": [
        "## Hair removal"
      ]
    },
    {
      "cell_type": "code",
      "execution_count": null,
      "metadata": {
        "id": "jpudfi-nJeVE"
      },
      "outputs": [],
      "source": [
        "import cv2\n",
        "\n",
        "# algorithm: dull razor technique, described here:\n",
        "# https://link.springer.com/article/10.1007/s11042-022-13046-0\n",
        "def hair_removal(img, kernal_size):\n",
        "  \"\"\"\n",
        "  Removes hair from an image using a dull razor technique - applies\n",
        "  a mask to the original image. Returns a new image with hair removed\n",
        "  and does not modify the original image.\n",
        "  \"\"\"\n",
        "  # convert to grayscale\n",
        "  gray = cv2.cvtColor(img, cv2.COLOR_RGB2GRAY)\n",
        "\n",
        "  # black hat filter\n",
        "  kernal = cv2.getStructuringElement(1, (kernal_size, kernal_size))\n",
        "  blackhat = cv2.morphologyEx(gray, cv2.MORPH_BLACKHAT, kernal)\n",
        "\n",
        "  # binary thresholding\n",
        "  ret,mask = cv2.threshold(blackhat, 15, 255, cv2.THRESH_BINARY)\n",
        "\n",
        "  # apply mask to original image\n",
        "  dst = cv2.inpaint(img, mask, 3, cv2.INPAINT_TELEA)\n",
        "\n",
        "  return dst"
      ]
    },
    {
      "cell_type": "code",
      "execution_count": null,
      "metadata": {
        "id": "a3rDRseIOTaq"
      },
      "outputs": [],
      "source": [
        "img = plt.imread('/content/data/bcc/ISIC_0024403.jpg')\n",
        "plt.imshow(img)"
      ]
    },
    {
      "cell_type": "code",
      "execution_count": null,
      "metadata": {
        "id": "6yG-5EXXR3tX"
      },
      "outputs": [],
      "source": [
        "new = hair_removal(img, 15)\n",
        "plt.imshow(new)"
      ]
    },
    {
      "cell_type": "markdown",
      "metadata": {
        "id": "CSkPT06inWJE"
      },
      "source": [
        "# Data visualization"
      ]
    },
    {
      "cell_type": "code",
      "execution_count": 4,
      "metadata": {
        "id": "Kn4N67rQGgeG"
      },
      "outputs": [
        {
          "ename": "FileNotFoundError",
          "evalue": "[WinError 3] The system cannot find the path specified: '/content/data'",
          "output_type": "error",
          "traceback": [
            "\u001b[1;31m---------------------------------------------------------------------------\u001b[0m",
            "\u001b[1;31mFileNotFoundError\u001b[0m                         Traceback (most recent call last)",
            "Cell \u001b[1;32mIn[4], line 4\u001b[0m\n\u001b[0;32m      2\u001b[0m \u001b[38;5;28;01mimport\u001b[39;00m \u001b[38;5;21;01mos\u001b[39;00m\n\u001b[0;32m      3\u001b[0m proj_dir \u001b[38;5;241m=\u001b[39m \u001b[38;5;124m'\u001b[39m\u001b[38;5;124m/content/data\u001b[39m\u001b[38;5;124m'\u001b[39m\n\u001b[1;32m----> 4\u001b[0m \u001b[43mos\u001b[49m\u001b[38;5;241;43m.\u001b[39;49m\u001b[43mchdir\u001b[49m\u001b[43m(\u001b[49m\u001b[43mproj_dir\u001b[49m\u001b[43m)\u001b[49m\n\u001b[0;32m      6\u001b[0m \u001b[38;5;28;01mif\u001b[39;00m os\u001b[38;5;241m.\u001b[39mpath\u001b[38;5;241m.\u001b[39mexists(\u001b[38;5;124m'\u001b[39m\u001b[38;5;124m.ipynb_checkpoints\u001b[39m\u001b[38;5;124m'\u001b[39m):\n\u001b[0;32m      7\u001b[0m     get_ipython()\u001b[38;5;241m.\u001b[39msystem(\u001b[38;5;124m'\u001b[39m\u001b[38;5;124mrm -r .ipynb_checkpoints\u001b[39m\u001b[38;5;124m'\u001b[39m)\n",
            "\u001b[1;31mFileNotFoundError\u001b[0m: [WinError 3] The system cannot find the path specified: '/content/data'"
          ]
        }
      ],
      "source": [
        "# navigate to the directory with the imported datasets\n",
        "import os\n",
        "proj_dir = '/content/data'\n",
        "os.chdir(proj_dir)\n",
        "\n",
        "if os.path.exists('.ipynb_checkpoints'):\n",
        "    !rm -r .ipynb_checkpoints\n",
        "\n",
        "# use transform to ensure that input image is 224x224 RGB () image as input\n",
        "transform = transforms.Compose([transforms.ToTensor(),\n",
        "         transforms.Resize((224, 224)), # images are either 450 * 600 or 1024 * 1024\n",
        "                                # all resized to 224 * 224 for ResNet\n",
        "         transforms.Normalize((0.5, 0.5, 0.5), (0.5, 0.5, 0.5))])\n",
        "\n",
        "# transform input images to match requirements; load all images to all_data\n",
        "all_data = torchvision.datasets.ImageFolder(proj_dir, transform=transform)"
      ]
    },
    {
      "cell_type": "code",
      "execution_count": null,
      "metadata": {
        "id": "s4zxiQnbonEF"
      },
      "outputs": [],
      "source": [
        "# preview contents of all data\n",
        "all_data"
      ]
    },
    {
      "cell_type": "code",
      "execution_count": null,
      "metadata": {
        "id": "7vMyr3ORWKCJ"
      },
      "outputs": [],
      "source": [
        "# visualize a single image in the set\n",
        "image_data = all_data[200][0] # torch.Tensor of shape [3, 224, 224]\n",
        "\n",
        "# convert to numpy array\n",
        "image_np = image_data.numpy()\n",
        "\n",
        "# transpose for matplotlib\n",
        "image_np = np.transpose(image_np, (1, 2, 0))\n",
        "\n",
        "# show\n",
        "plt.imshow(image_np)"
      ]
    },
    {
      "cell_type": "code",
      "execution_count": null,
      "metadata": {
        "id": "gKyF_mTXopZ1"
      },
      "outputs": [],
      "source": [
        "# use a set, random seed\n",
        "torch.manual_seed(0)\n",
        "\n",
        "# find 20% of len(all_data) for 20% test and val sets\n",
        "test_size = int(len(all_data) * 0.2)\n",
        "\n",
        "# remaining ~60% is left for training\n",
        "train_size = len(all_data) - 2 * test_size\n",
        "\n",
        "# randomly split the data into training, test and validation sets\n",
        "train_data, val_data, test_data = torch.utils.data.random_split(all_data,\n",
        "  [train_size, test_size, test_size])"
      ]
    },
    {
      "cell_type": "markdown",
      "metadata": {
        "id": "SAd9-JNhZDC9"
      },
      "source": [
        "# Baseline model (SVM)"
      ]
    },
    {
      "cell_type": "markdown",
      "metadata": {
        "id": "0fdLZfc-jKg8"
      },
      "source": [
        "SVMs are used for linear / non linear classification, regression and even outlier detection tasks. SVMs are robust to outliers.\n",
        "\n",
        "They try to find the maximum separating hyperplane (decision boundary) between the different classes. The distance (margin) from it to the nearest data point (support vector) on each side should be maximized.\n",
        "\n",
        "It is a supervised machine learning algorithm.\n",
        "\n",
        "The dimension of the hyperplane = number of features - 1\n",
        "\n",
        "If the data is not linearly separable, it creates a new variable using a kernel. This maps the original input data points into high-dimensional feature spaces."
      ]
    },
    {
      "cell_type": "markdown",
      "metadata": {
        "id": "nakDNDG6jLFL"
      },
      "source": [
        "Steps:\n",
        "\n",
        "1. Feature Extraction - ensure that the features extracted from the ResNet + CBAM model are compatible with the SVM classifier\n",
        "2. SVM parameter optimization\n",
        "3. Evaluation\n",
        "\n",
        "\n",
        "New Steps:\n",
        "\n",
        "1. Build and Train ANN for Feature Extraction\n",
        "2. Extract features using trained ANN\n",
        "3. Train the SVM on the Extracted Features\n",
        "4. Evaluate performance of combined model"
      ]
    },
    {
      "cell_type": "markdown",
      "metadata": {
        "id": "9Us_nY1YjNHr"
      },
      "source": [
        "From our project proposal:\n",
        "\n",
        "The efficacy of the proposed skin condition classification model will be compared against a support\n",
        "vector machine (SVM). This baseline model will provide a benchmark to highlight the improvements\n",
        "brought by the CNN model integrated with CBAM. For the SVM baseline comparison,\n",
        "instead of passing the features through the final fully connected layer and softmax activation for\n",
        "classification, they will be fed into an SVM classifier. This SVM will use the extracted features\n",
        "from the ResNet + CBAM network to classify the skin conditions and cancers. SVM was selected\n",
        "as the baseline due to its widespread use and proven performance in the classification of skin lesions\n",
        "(Hameed et al., 2018) and its demonstrated excellence in classification tasks (Chandra & Bedi,\n",
        "2021).\n",
        "SVMs are advantageous in terms of simplicity and training speed, especially with smaller datasets.\n",
        "They find the best possible hyperplane that separates different classes of data points. Despite these\n",
        "advantages, SVMs may not capture the complex patterns and relationships as effectively as CNNs,\n",
        "which learn features automatically during the training process. can you help me implement this baseline model\n"
      ]
    },
    {
      "cell_type": "markdown",
      "metadata": {
        "id": "C29Nu7LnmBNv"
      },
      "source": [
        "###Build ANN for Feature Extraction\n"
      ]
    },
    {
      "cell_type": "code",
      "execution_count": 55,
      "metadata": {
        "id": "vUesqr2JmEBd"
      },
      "outputs": [],
      "source": [
        "import torch\n",
        "import torch.nn as nn\n",
        "import torch.optim as optim\n",
        "from torch.utils.data import DataLoader, Dataset\n",
        "from torchvision import transforms, datasets\n",
        "\n",
        "# Define a simple ANN for feature extraction\n",
        "\n",
        "#the model is used to extract features from the input images. These features are then fed into the SVM classifier\n",
        "# we do not train it because it s purpose is not to classify or learn from data\n",
        "class SimpleANN(nn.Module):\n",
        "    def __init__(self):\n",
        "        super(SimpleANN, self).__init__()\n",
        "        self.fc1 = nn.Linear(224 * 224 * 3, 512)  # Input size 224x224x3, output size 512\n",
        "        self.relu = nn.ReLU()\n",
        "        self.fc2 = nn.Linear(512, 128)  # Hidden layer with output size 128\n",
        "        self.fc3 = nn.Linear(128, 4)  # Output layer for 4 classes\n",
        "\n",
        "    def forward(self, x):\n",
        "        x = x.view(x.size(0), -1)  # Flatten the input\n",
        "        x = self.fc1(x)\n",
        "        x = self.relu(x)\n",
        "        x = self.fc2(x)\n",
        "        x = self.relu(x)\n",
        "        x = self.fc3(x)\n",
        "        return x"
      ]
    },
    {
      "cell_type": "code",
      "execution_count": 56,
      "metadata": {
        "colab": {
          "base_uri": "https://localhost:8080/"
        },
        "id": "eLNTfKQ0xzxQ",
        "outputId": "d3b75a24-c12b-4f50-83e2-47f993766420"
      },
      "outputs": [
        {
          "name": "stdout",
          "output_type": "stream",
          "text": [
            "280\n",
            "93\n",
            "93\n"
          ]
        }
      ],
      "source": [
        "print(len(train_data))\n",
        "print(len(val_data))\n",
        "print(len(test_data))"
      ]
    },
    {
      "cell_type": "code",
      "execution_count": 57,
      "metadata": {
        "id": "agmRnLn9wEin"
      },
      "outputs": [],
      "source": [
        "# Define your data loaders\n",
        "batch_size = 32\n",
        "train_loader = DataLoader(train_data, batch_size=batch_size, shuffle=True)\n",
        "val_loader = DataLoader(val_data, batch_size=batch_size, shuffle=False)\n",
        "test_loader = DataLoader(test_data, batch_size=batch_size, shuffle=False)"
      ]
    },
    {
      "cell_type": "code",
      "execution_count": 58,
      "metadata": {
        "id": "EunZeT4QwNF3"
      },
      "outputs": [],
      "source": [
        "baselineModel = SimpleANN()"
      ]
    },
    {
      "cell_type": "markdown",
      "metadata": {
        "id": "7B50YW6YmGjZ"
      },
      "source": [
        "###Extract features using trained ANN"
      ]
    },
    {
      "cell_type": "code",
      "execution_count": 64,
      "metadata": {
        "id": "iXVFuLEqmHaG"
      },
      "outputs": [
        {
          "ename": "ModuleNotFoundError",
          "evalue": "No module named 'sklearn'",
          "output_type": "error",
          "traceback": [
            "\u001b[1;31m---------------------------------------------------------------------------\u001b[0m",
            "\u001b[1;31mModuleNotFoundError\u001b[0m                       Traceback (most recent call last)",
            "Cell \u001b[1;32mIn[64], line 5\u001b[0m\n\u001b[0;32m      3\u001b[0m \u001b[38;5;28;01mimport\u001b[39;00m \u001b[38;5;21;01mmatplotlib\u001b[39;00m\u001b[38;5;21;01m.\u001b[39;00m\u001b[38;5;21;01mpyplot\u001b[39;00m \u001b[38;5;28;01mas\u001b[39;00m \u001b[38;5;21;01mplt\u001b[39;00m\n\u001b[0;32m      4\u001b[0m \u001b[38;5;28;01mimport\u001b[39;00m \u001b[38;5;21;01mpandas\u001b[39;00m \u001b[38;5;28;01mas\u001b[39;00m \u001b[38;5;21;01mpd\u001b[39;00m\n\u001b[1;32m----> 5\u001b[0m \u001b[38;5;28;01mfrom\u001b[39;00m \u001b[38;5;21;01msklearn\u001b[39;00m\u001b[38;5;21;01m.\u001b[39;00m\u001b[38;5;21;01mmodel_selection\u001b[39;00m \u001b[38;5;28;01mimport\u001b[39;00m train_test_split\n\u001b[0;32m      6\u001b[0m \u001b[38;5;28;01mfrom\u001b[39;00m \u001b[38;5;21;01msklearn\u001b[39;00m\u001b[38;5;21;01m.\u001b[39;00m\u001b[38;5;21;01msvm\u001b[39;00m \u001b[38;5;28;01mimport\u001b[39;00m SVC\n\u001b[0;32m      7\u001b[0m \u001b[38;5;28;01mfrom\u001b[39;00m \u001b[38;5;21;01msklearn\u001b[39;00m\u001b[38;5;21;01m.\u001b[39;00m\u001b[38;5;21;01mmetrics\u001b[39;00m \u001b[38;5;28;01mimport\u001b[39;00m accuracy_score, classification_report\n",
            "\u001b[1;31mModuleNotFoundError\u001b[0m: No module named 'sklearn'"
          ]
        }
      ],
      "source": [
        "#importing the libraries\n",
        "import numpy as np\n",
        "import matplotlib.pyplot as plt\n",
        "import pandas as pd\n",
        "from sklearn.model_selection import train_test_split\n",
        "from sklearn.svm import SVC\n",
        "from sklearn.metrics import accuracy_score, classification_report\n",
        "from sklearn.metrics import confusion_matrix, precision_score, recall_score, f1_score, roc_auc_score\n",
        "\n",
        "# Confusion Matrix\n",
        "import os"
      ]
    },
    {
      "cell_type": "code",
      "execution_count": null,
      "metadata": {
        "id": "_LGpWL5MmJVx"
      },
      "outputs": [],
      "source": [
        "def extract_features(loader, model):\n",
        "    features_list = []\n",
        "    labels_list = []\n",
        "\n",
        "    model.eval()\n",
        "\n",
        "    for images, labels in loader:\n",
        "        with torch.no_grad():\n",
        "            features = model(images)\n",
        "            features_list.append(features.cpu().numpy())  # Append the numpy array of features\n",
        "            labels_list.append(labels.numpy())  # Append labels as numpy array\n",
        "\n",
        "    # Concatenate all features and labels\n",
        "    features_array = np.concatenate(features_list, axis=0)\n",
        "    labels_array = np.concatenate(labels_list, axis=0)\n",
        "\n",
        "    return features_array, labels_array"
      ]
    },
    {
      "cell_type": "code",
      "execution_count": null,
      "metadata": {
        "colab": {
          "base_uri": "https://localhost:8080/"
        },
        "id": "icfOqXvRncOV",
        "outputId": "08772d31-07a1-4de1-b5bf-008a64b4250d"
      },
      "outputs": [
        {
          "name": "stdout",
          "output_type": "stream",
          "text": [
            "Train features shape: (5659, 4)\n",
            "Train labels shape: (5659,)\n",
            "Validation features shape: (1886, 4)\n",
            "Validation labels shape: (1886,)\n",
            "Test features shape: (1886, 4)\n",
            "Test labels shape: (1886,)\n"
          ]
        }
      ],
      "source": [
        "# extract features for train, validation, and test sets\n",
        "X_train, Y_train = extract_features(train_loader, baselineModel)\n",
        "X_val, Y_val = extract_features(val_loader, baselineModel)\n",
        "X_test, Y_test = extract_features(test_loader, baselineModel)\n",
        "\n",
        "# print extracted feature shapes\n",
        "print(f\"Train features shape: {X_train.shape}\")\n",
        "print(f\"Train labels shape: {Y_train.shape}\")\n",
        "print(f\"Validation features shape: {X_val.shape}\")\n",
        "print(f\"Validation labels shape: {Y_val.shape}\")\n",
        "print(f\"Test features shape: {X_test.shape}\")\n",
        "print(f\"Test labels shape: {Y_test.shape}\")"
      ]
    },
    {
      "cell_type": "markdown",
      "metadata": {
        "id": "zXuRw_qZmL_0"
      },
      "source": [
        "###Train the SVM on the Extracted Features"
      ]
    },
    {
      "cell_type": "code",
      "execution_count": null,
      "metadata": {
        "id": "DL-EmcrKmNyb"
      },
      "outputs": [],
      "source": [
        "def train_svm(X_train, Y_train, X_test, Y_test):\n",
        "  #initialize the SVM with linear kernel and regularization parameter C\n",
        "  svm_classifier = SVC(kernel='linear', class_weight='balanced', C=1.0)\n",
        "  #train the SVM classifier\n",
        "  svm_classifier.fit(X_train, Y_train)\n",
        "\n",
        "  #predict the labels for the test data\n",
        "  y_pred = svm_classifier.predict(X_test)\n",
        "\n",
        "  #compute the accuracy of the classifier\n",
        "  accuracy = accuracy_score(Y_test, y_pred)\n",
        "  print(f\"SVM Accuracy: {accuracy * 100:.2f}%\")\n",
        "\n",
        "  print(classification_report(Y_test, y_pred))\n",
        "\n",
        "  # Confusion Matrix\n",
        "  conf_matrix = confusion_matrix(Y_test, y_pred)\n",
        "  print(\"Confusion Matrix:\")\n",
        "  print(conf_matrix)\n",
        "\n",
        "  # Precision, Recall, F1-score for each class\n",
        "  precision = precision_score(Y_test, y_pred, average=None)\n",
        "  recall = recall_score(Y_test, y_pred, average=None)\n",
        "  f1 = f1_score(Y_test, y_pred, average=None)\n",
        "\n",
        "  print(\"Precision:\")\n",
        "  print(precision)\n",
        "\n",
        "  print(\"Recall:\")\n",
        "  print(recall)\n",
        "\n",
        "  print(\"F1-score:\")\n",
        "  print(f1)\n",
        "\n",
        "  return svm_classifier, accuracy, conf_matrix, precision, recall, f1"
      ]
    },
    {
      "cell_type": "code",
      "execution_count": null,
      "metadata": {
        "id": "byudk0Vr4tDL"
      },
      "outputs": [],
      "source": [
        "import matplotlib.pyplot as plt\n",
        "import seaborn as sns\n",
        "\n",
        "class_labels = ['bcc', 'bkl', 'mel', 'nv']\n",
        "\n",
        "# plotting the Confusion Matrix\n",
        "def plot_confusion_matrix(conf_matrix):\n",
        "    plt.figure(figsize=(8, 6))\n",
        "    sns.heatmap(conf_matrix, annot=True, fmt='d', cmap='Blues', xticklabels=class_labels, yticklabels=class_labels)\n",
        "    plt.xlabel('Predicted Label')\n",
        "    plt.ylabel('True Label')\n",
        "    plt.title('Confusion Matrix')\n",
        "    plt.show()\n",
        "\n",
        "# plotting Precision, Recall, and F1-score\n",
        "def plot_metrics(precision, recall, f1):\n",
        "    metrics = np.array([precision, recall, f1])\n",
        "    metrics_names = ['Precision', 'Recall', 'F1-score']\n",
        "\n",
        "    plt.figure(figsize=(12, 4))\n",
        "\n",
        "    for i, metric in enumerate(metrics):\n",
        "        plt.subplot(1, 3, i + 1)\n",
        "        plt.bar(class_labels, metric, color='skyblue')\n",
        "        plt.xlabel('Classes')\n",
        "        plt.ylabel(metrics_names[i])\n",
        "        plt.title(f'{metrics_names[i]} for each class')\n",
        "\n",
        "    plt.tight_layout()\n",
        "    plt.show()"
      ]
    },
    {
      "cell_type": "markdown",
      "metadata": {
        "id": "RTdJokxcmVQj"
      },
      "source": [
        "###Evaluate performance of combined model"
      ]
    },
    {
      "cell_type": "code",
      "execution_count": null,
      "metadata": {
        "colab": {
          "base_uri": "https://localhost:8080/",
          "height": 1000
        },
        "id": "70moKC_UyGw-",
        "outputId": "61178060-0645-4342-bdbd-be3c2e1d02f1"
      },
      "outputs": [
        {
          "name": "stdout",
          "output_type": "stream",
          "text": [
            "SVM Accuracy: 40.46%\n",
            "              precision    recall  f1-score   support\n",
            "\n",
            "           0       0.13      0.47      0.20       123\n",
            "           1       0.19      0.48      0.27       221\n",
            "           2       0.27      0.24      0.25       224\n",
            "           3       0.81      0.41      0.55      1318\n",
            "\n",
            "    accuracy                           0.40      1886\n",
            "   macro avg       0.35      0.40      0.32      1886\n",
            "weighted avg       0.63      0.40      0.46      1886\n",
            "\n",
            "Confusion Matrix:\n",
            "[[ 58  40   2  23]\n",
            " [ 48 107  10  56]\n",
            " [ 41  84  53  46]\n",
            " [308 335 130 545]]\n",
            "Precision:\n",
            "[0.12747253 0.18904594 0.27179487 0.81343284]\n",
            "Recall:\n",
            "[0.47154472 0.4841629  0.23660714 0.41350531]\n",
            "F1-score:\n",
            "[0.20069204 0.27191868 0.25298329 0.54828974]\n"
          ]
        },
        {
          "data": {
            "image/png": "[encoded data removed]",
            "text/plain": [
              "<Figure size 800x600 with 2 Axes>"
            ]
          },
          "metadata": {},
          "output_type": "display_data"
        },
        {
          "data": {
            "image/png": "[encoded data removed]",
            "text/plain": [
              "<Figure size 1200x400 with 3 Axes>"
            ]
          },
          "metadata": {},
          "output_type": "display_data"
        }
      ],
      "source": [
        "# Train SVM classifier and get accuracy\n",
        "svm_classifier, accuracy, conf_matrix, precision, recall, f1 = train_svm(X_train, Y_train, X_test, Y_test)\n",
        "\n",
        "plot_confusion_matrix(conf_matrix)\n",
        "plot_metrics(precision, recall, f1)"
      ]
    },
    {
      "cell_type": "markdown",
      "metadata": {
        "id": "5N2ZSJo35ljS"
      },
      "source": [
        "Overall Performance Analysis:\n",
        "\n",
        "1. accuracy:\n",
        "- the svm classifier achieved an accuracy of 40.46%. This means that out of all the test samples, approximately 40.46% were correctly classified by the model.\n",
        "\n",
        "2. precision, recall and f1 score:\n",
        "- precision indicates how many of the predicted positive samples are actually positive\n",
        "- recall indicates how many of the actual positive samples were correctly identified by the model\n",
        "- f1-score is the harmonic mean of precision and recall\n",
        "\n",
        "3. class-wise analysis\n",
        "- class 0:\n",
        "  - precision = 0.13\n",
        "  - recall = 0.47\n",
        "  - f1-score = 0.20\n",
        "- class 1:\n",
        "  - precision = 0.19\n",
        "  - recall = 0.48\n",
        "  - f1-score = 0.27\n",
        "  The model has low precision but relatively high recall for classes 0 and 1, indicating it predicts many false positive but captures a significant portion of acutal positives.\n",
        "- class 2:\n",
        "  - precision = 0.27\n",
        "  - recall = 0.24\n",
        "  - f1-score = 0.25\n",
        "  Low precision and recall indicating struggles with this class.\n",
        "- class 3:\n",
        "  - precision = 0.81\n",
        "  - recall = 0.41\n",
        "  - f1-score = 0.55\n",
        "  This class has high precision and lower recall, meaning it accurately predicts positive samples but misses many actual positives.\n",
        "\n",
        "4. confusion matrix\n",
        "- The confusion matrix shows the distribution of predictions for each class. For example, for class 0, there were 58 true positives, 40 instances misclassified as class 1, 2 as class 2, and 23 as class 3.\n",
        "\n",
        "\n"
      ]
    }
  ],
  "metadata": {
    "accelerator": "GPU",
    "colab": {
      "gpuType": "T4",
      "provenance": []
    },
    "kernelspec": {
      "display_name": "Python 3",
      "name": "python3"
    },
    "language_info": {
      "codemirror_mode": {
        "name": "ipython",
        "version": 3
      },
      "file_extension": ".py",
      "mimetype": "text/x-python",
      "name": "python",
      "nbconvert_exporter": "python",
      "pygments_lexer": "ipython3",
      "version": "3.12.1"
    }
  },
  "nbformat": 4,
  "nbformat_minor": 0
}
